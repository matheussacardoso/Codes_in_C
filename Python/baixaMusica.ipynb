{
  "nbformat": 4,
  "nbformat_minor": 0,
  "metadata": {
    "colab": {
      "provenance": [],
      "collapsed_sections": []
    },
    "kernelspec": {
      "name": "python3",
      "display_name": "Python 3"
    },
    "language_info": {
      "name": "python"
    }
  },
  "cells": [
    {
      "cell_type": "code",
      "source": [
        "# !pip install pytube\n",
        "# https://acervolima.com/baixe-o-video-em-formato-mp3-usando-pytube/"
      ],
      "metadata": {
        "id": "SbF4_XxmHIXf"
      },
      "execution_count": null,
      "outputs": []
    },
    {
      "cell_type": "code",
      "execution_count": null,
      "metadata": {
        "id": "ozyd6pzOGwS4"
      },
      "outputs": [],
      "source": [
        "# importing packages\n",
        "from pytube import YouTube\n",
        "import os\n",
        "\n",
        "# url input from user\n",
        "yt = YouTube('https://www.youtube.com/watch?v=p4kVWCSzfK4')\n",
        "\n",
        "# extract only audio\n",
        "video = yt.streams.filter(only_audio=True).first()\n",
        "\n",
        "# check for destination to save file\n",
        "destination = '.'\n",
        "\n",
        "# download the file\n",
        "out_file = video.download(output_path=destination)\n",
        "\n",
        "# save the file\n",
        "base, ext = os.path.splitext(out_file)\n",
        "new_file = base + '.mp3'\n",
        "os.rename(out_file, new_file)\n",
        "\n",
        "# result of success\n",
        "print(yt.title + \" has been successfully downloaded.\")"
      ]
    }
  ]
}