{
  "nbformat": 4,
  "nbformat_minor": 0,
  "metadata": {
    "colab": {
      "provenance": []
    },
    "kernelspec": {
      "display_name": "Python 3",
      "name": "python3"
    },
    "language_info": {
      "name": "python"
    }
  },
  "cells": [
    {
      "cell_type": "code",
      "metadata": {
        "id": "Thr8kNp7OBdy"
      },
      "source": [
        "import random\n",
        "from string import digits\n",
        "from string import punctuation\n",
        "from string import ascii_letters\n",
        "\n",
        "symbols = ascii_letters + digits + punctuation\n",
        "secure_random = random.SystemRandom()\n",
        "password = \"\".join(secure_random.choice(symbols)\n",
        "  for i in range(8))\n",
        "print(password)"
      ],
      "execution_count": null,
      "outputs": []
    }
  ]
}