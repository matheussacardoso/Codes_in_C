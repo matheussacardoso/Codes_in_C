{
  "cells": [
    {
      "cell_type": "markdown",
      "source": [
        "## Lista x Tupla x Dicionario"
      ],
      "metadata": {
        "id": "Y3Lch7MPEDNt"
      }
    },
    {
      "cell_type": "markdown",
      "source": [
        "Lista é uma coleção de valores indexada, em que cada valor é identificado por um índice. O primeiro item na lista está no índice 0, o segundo no índice 1 e assim por diante. As listas são sequências mutáveis.\n",
        "```\n",
        "programadores = ['Victor', 'Juliana', 'Samuel', 'Caio', 'Luana']\n",
        "```\n",
        "\n",
        "Tupla é uma estrutura de dados semelhante a lista. Porém, ela tem a característica de ser imutável, ou seja, após uma tupla ser criada, ela não pode ser alterada. \n",
        "```\n",
        "times_rj = ('Botafogo', 'Flamengo', 'Fluminense', 'Vasco')\n",
        "```\n",
        "\n",
        "Os dicionários representam coleções de dados que contém na sua estrutura um conjunto de pares chave/valor, nos quais cada chave individual tem um valor associado.\n",
        "```\n",
        "dados_cliente = {\n",
        "    'Nome': 'Renan',\n",
        "    'Endereco': 'Rua Cruzeiro do Sul',\n",
        "    'Telefone': '982503645'\n",
        "}\n",
        "```"
      ],
      "metadata": {
        "id": "CEyy7qEvGXf5"
      }
    },
    {
      "cell_type": "markdown",
      "source": [
        "## Introdução ao pandas"
      ],
      "metadata": {
        "id": "ZABZlTJWGd9S"
      }
    },
    {
      "cell_type": "code",
      "execution_count": null,
      "metadata": {
        "id": "beENWuforIjN"
      },
      "outputs": [],
      "source": [
        "import pandas as pd\n",
        "\n",
        "#dicionario com listas\n",
        "venda={ 'data': ['15/02/2021','22/02/2022'],\n",
        "\t\t'valor': [500,300],\n",
        "\t\t'produto': ['feijao','arroz'],\n",
        "\t\t'quantidade': [50,70],\n",
        "}\n",
        "\n",
        "#transforma um dicionario \"venda\" em um dataframe\n",
        "venda1=pd.DataFrame(venda)\n",
        "print(venda1)\n",
        "\n",
        "display(venda1)"
      ]
    },
    {
      "cell_type": "code",
      "execution_count": null,
      "metadata": {
        "id": "CQKXmAqtraOo"
      },
      "outputs": [],
      "source": [
        "#cria um vetor unidimensional com indices\n",
        "objeto1=pd.Series([2,6,9,10,5])\n",
        "print(objeto1)"
      ]
    },
    {
      "cell_type": "code",
      "execution_count": null,
      "metadata": {
        "id": "Ayrr8hc1t8y-"
      },
      "outputs": [],
      "source": [
        "venda_tabela=pd.read_excel(\"Vendas (1).xlsx\")\n",
        "#display(venda_tabela)\n",
        "\n",
        "display(venda_tabela.head())\n",
        "\n",
        "#linhas x colunas\n",
        "print(venda_tabela.shape)\n",
        "\n",
        "#printa uma tabela com medidas estatisticas\n",
        "display(venda_tabela.describe())"
      ]
    },
    {
      "cell_type": "markdown",
      "metadata": {
        "id": "XSCWw_Gcxd6j"
      },
      "source": [
        "Cada coluna da tabela é um pd.Series, ou seja, um array. Um dataframe é a tabela completa.\n"
      ]
    },
    {
      "cell_type": "code",
      "execution_count": null,
      "metadata": {
        "id": "_t1Jy6AjwLRD"
      },
      "outputs": [],
      "source": [
        "#Printar 1 ou + colunas especificas da tabela\n",
        "produtos=venda_tabela[['Produto','ID Loja']]\n",
        "display(produtos)"
      ]
    },
    {
      "cell_type": "code",
      "source": [
        "display(venda_tabela.loc[1:5])\n",
        "\n",
        "display(venda_tabela.loc[venda_tabela['ID Loja']== 'Norte Shopping'])"
      ],
      "metadata": {
        "id": "LZZb8ggo7Yb_"
      },
      "execution_count": null,
      "outputs": []
    },
    {
      "cell_type": "code",
      "source": [
        "vendas_tabela"
      ],
      "metadata": {
        "id": "3oTBY4htzApP"
      },
      "execution_count": null,
      "outputs": []
    },
    {
      "cell_type": "code",
      "source": [
        "kanto = [73,67,43]\n",
        "weights=[0.3,0.2,0.5]\n",
        "\n",
        "for item in zip(kanto, weights):\n",
        "  print(item)"
      ],
      "metadata": {
        "id": "mrO8JD-0abZP"
      },
      "execution_count": null,
      "outputs": []
    },
    {
      "cell_type": "markdown",
      "source": [
        "##Python Data Analysis Project For Beginners on Restaurant Data with Pandas and Seaborn Library"
      ],
      "metadata": {
        "id": "Gf67Hb6y5YkU"
      }
    },
    {
      "cell_type": "code",
      "source": [
        "import seaborn as sns\n",
        "import pandas as pd\n",
        "\n",
        "tips =sns.load_dataset('tips')"
      ],
      "metadata": {
        "id": "SF6g0cYrdc78"
      },
      "execution_count": null,
      "outputs": []
    },
    {
      "cell_type": "code",
      "source": [
        "display(tips.head())"
      ],
      "metadata": {
        "id": "BxNM4sg6dlqa"
      },
      "execution_count": null,
      "outputs": []
    },
    {
      "cell_type": "code",
      "source": [
        "# How many weekdays are present in the dataset\n",
        "tips.day.unique()"
      ],
      "metadata": {
        "id": "9RG5IHWheFQ0"
      },
      "execution_count": null,
      "outputs": []
    },
    {
      "cell_type": "code",
      "source": [
        "# The last 5 rows in the dataset\n",
        "tips.tail()"
      ],
      "metadata": {
        "id": "cEu6KinDeR4_"
      },
      "execution_count": null,
      "outputs": []
    },
    {
      "cell_type": "code",
      "source": [
        "# Contabiliza o total de determinada variavel\n",
        "tips.time.value_counts()"
      ],
      "metadata": {
        "id": "0TMxOcrA5udJ"
      },
      "execution_count": null,
      "outputs": []
    },
    {
      "cell_type": "code",
      "source": [
        "tips.time.value_counts().plot(kind='bar')\n",
        "\n",
        "tips.time.value_counts(normalize=True)"
      ],
      "metadata": {
        "id": "mehpzs8W6KIj",
        "colab": {
          "base_uri": "https://localhost:8080/",
          "height": 341
        },
        "outputId": "1971f212-cccf-4ea0-f4fa-69bf1aeaaf30"
      },
      "execution_count": null,
      "outputs": [
        {
          "output_type": "execute_result",
          "data": {
            "text/plain": [
              "Dinner    0.721311\n",
              "Lunch     0.278689\n",
              "Name: time, dtype: float64"
            ]
          },
          "metadata": {},
          "execution_count": 4
        },
        {
          "output_type": "display_data",
          "data": {
            "text/plain": [
              "<Figure size 432x288 with 1 Axes>"
            ],
            "image/png": "[encoded data removed]"
          },
          "metadata": {
            "needs_background": "light"
          }
        }
      ]
    },
    {
      "cell_type": "code",
      "source": [
        "# when does people pay more tips during lunch or dinner?\n",
        "# mean is the average\n",
        "\n",
        "tips.groupby(['time'])['tip'].mean()\n",
        "tips.groupby(['time'])['tip'].mean().plot.bar()"
      ],
      "metadata": {
        "id": "i79yC3oq7kmu"
      },
      "execution_count": null,
      "outputs": []
    },
    {
      "cell_type": "code",
      "source": [
        "tips.groupby(['time'])['tip'].max()"
      ],
      "metadata": {
        "id": "akLAVfKY-bxQ"
      },
      "execution_count": null,
      "outputs": []
    },
    {
      "cell_type": "code",
      "source": [
        "# Relation of smoke and average tips\n",
        "\n",
        "tips.groupby(['smoker','sex'])['tip'].mean()"
      ],
      "metadata": {
        "id": "bR1cBFdLBoUR",
        "colab": {
          "base_uri": "https://localhost:8080/"
        },
        "outputId": "1d2491a3-b026-488a-8a42-c90f77bd3efe"
      },
      "execution_count": null,
      "outputs": [
        {
          "output_type": "execute_result",
          "data": {
            "text/plain": [
              "smoker  sex   \n",
              "Yes     Male      3.051167\n",
              "        Female    2.931515\n",
              "No      Male      3.113402\n",
              "        Female    2.773519\n",
              "Name: tip, dtype: float64"
            ]
          },
          "metadata": {},
          "execution_count": 2
        }
      ]
    },
    {
      "cell_type": "code",
      "source": [
        "tips.groupby(['smoker','sex'])['tip'].mean().unstack()"
      ],
      "metadata": {
        "id": "qos-ks1fCDlo"
      },
      "execution_count": null,
      "outputs": []
    },
    {
      "cell_type": "code",
      "source": [
        "tips['tip_pct']= tips.tip/tips.total_bill\n",
        "\n",
        "tips.head()"
      ],
      "metadata": {
        "id": "1j83K9VUDath"
      },
      "execution_count": null,
      "outputs": []
    },
    {
      "cell_type": "code",
      "source": [
        "tips.plot.scatter(x='total_bill',y='tip')"
      ],
      "metadata": {
        "id": "b51rQ_VgEOKe"
      },
      "execution_count": null,
      "outputs": []
    },
    {
      "cell_type": "code",
      "source": [
        "sns.scatterplot(x='total_bill',y='tip',data=tips,hue='sex')"
      ],
      "metadata": {
        "id": "ZAGP_aqDE5MS"
      },
      "execution_count": null,
      "outputs": []
    },
    {
      "cell_type": "code",
      "source": [
        "sns.scatterplot(x='total_bill',y='tip',data=tips,hue='time')"
      ],
      "metadata": {
        "id": "OhPj6GkWHQ7M"
      },
      "execution_count": null,
      "outputs": []
    },
    {
      "cell_type": "code",
      "source": [
        "sns.relplot(\n",
        "    x=\"total_bill\",y=\"tip\",data=tips,col=\"sex\",\n",
        "    hue=\"time\"\n",
        ")"
      ],
      "metadata": {
        "id": "nK4VzQEQJ_OG"
      },
      "execution_count": null,
      "outputs": []
    },
    {
      "cell_type": "code",
      "source": [
        "sns.displot(data=tips,x=\"total_bill\",col=\"time\",kde=True)"
      ],
      "metadata": {
        "id": "isTkecGDcECX"
      },
      "execution_count": null,
      "outputs": []
    },
    {
      "cell_type": "code",
      "source": [
        "sns.pairplot(data=tips,hue='sex')"
      ],
      "metadata": {
        "id": "tjIWpzgJdufm"
      },
      "execution_count": null,
      "outputs": []
    }
  ],
  "metadata": {
    "colab": {
      "provenance": []
    },
    "kernelspec": {
      "display_name": "Python 3",
      "name": "python3"
    },
    "language_info": {
      "name": "python"
    }
  },
  "nbformat": 4,
  "nbformat_minor": 0
}